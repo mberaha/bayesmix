{
 "cells": [
  {
   "cell_type": "code",
   "execution_count": null,
   "metadata": {},
   "outputs": [],
   "source": [
    "import numpy as np\n",
    "import matplotlib.pyplot as plt\n",
    "import pandas as pd\n",
    "from mpl_toolkits.mplot3d import Axes3D\n",
    "import scipy.stats as stats\n",
    "import subprocess"
   ]
  },
  {
   "cell_type": "markdown",
   "metadata": {},
   "source": [
    "# Univariate tests"
   ]
  },
  {
   "cell_type": "code",
   "execution_count": null,
   "metadata": {},
   "outputs": [],
   "source": [
    "# Generate data\n",
    "rng = 20201124\n",
    "np.random.seed(rng)\n",
    "n = 200\n",
    "norm1 = np.random.normal(loc=-4.0, scale=1.0, size=int(n/2))\n",
    "norm2 = np.random.normal(loc=+4.0, scale=1.0, size=int(n/2))\n",
    "data_uni = np.concatenate((norm1, norm2))\n",
    "np.savetxt(\"../resources/csv/in/data_uni.csv\", data_uni, fmt='%1.5f')"
   ]
  },
  {
   "cell_type": "code",
   "execution_count": null,
   "metadata": {},
   "outputs": [],
   "source": [
    "# Generate grid\n",
    "grid_uni = np.arange(-10, +10, 0.1)\n",
    "np.savetxt(\"../resources/csv/in/grid_uni.csv\", grid_uni, fmt='%1.5f')"
   ]
  },
  {
   "cell_type": "code",
   "execution_count": null,
   "metadata": {},
   "outputs": [],
   "source": [
    "# True density of data\n",
    "true_pdf = 0.5 * stats.norm.pdf(grid_uni, -4.0, 1.0) + \\\n",
    "           0.5 * stats.norm.pdf(grid_uni, +4.0, 1.0)"
   ]
  },
  {
   "cell_type": "code",
   "execution_count": null,
   "metadata": {},
   "outputs": [],
   "source": [
    "# Iterations to plot the density of\n",
    "iters = [0, 10, 100, 500, 898]"
   ]
  },
  {
   "cell_type": "markdown",
   "metadata": {},
   "source": [
    "## Fixed values hyperprior"
   ]
  },
  {
   "cell_type": "code",
   "execution_count": null,
   "metadata": {},
   "outputs": [],
   "source": [
    "# Run the executable\n",
    "cmd = [\"../build/run\",\n",
    "    \"Neal8\", str(rng), \"1\", \"6000\", \"5000\",\n",
    "    \"NNIG\", \"../resources/asciipb/nnig_ngg_prior.asciipb\",\n",
    "    \"DP\", \"../resources/asciipb/dp_gamma_prior.asciipb\",\n",
    "    \"\",\n",
    "    \"../resources/csv/in/data_uni.csv\", \"../resources/csv/in/grid_uni.csv\",\n",
    "    \"../resources/csv/out/uf_dens.csv\", \"../resources/csv/out/uf_mass.csv\",\n",
    "    \"../resources/csv/out/uf_nclu.csv\", \"../resources/csv/out/uf_clus.csv\"\n",
    "]\n",
    "subprocess.run(cmd, capture_output=True)"
   ]
  },
  {
   "cell_type": "code",
   "execution_count": null,
   "metadata": {},
   "outputs": [],
   "source": [
    "fig = plt.figure(figsize=(21,7))\n",
    "\n",
    "# Densities\n",
    "matr = np.genfromtxt(\"../resources/csv/out/uf_dens.csv\", delimiter=',')\n",
    "ax1 = fig.add_subplot(131)\n",
    "for it in iters:\n",
    "    ax1.plot(grid_uni, np.exp(matr[it, :]), linewidth=0.5)\n",
    "ax1.plot(grid_uni, np.exp(np.mean(matr, axis=0)), linewidth=1.0,\n",
    "         linestyle='--', color=\"black\")\n",
    "\n",
    "ax1.plot(grid_uni, true_pdf, linewidth=1.0, color=\"red\")\n",
    "ax1.legend(iters + [\"mean\", \"true\"])\n",
    "ax1.set_title(\"Univariate densities\")\n",
    "\n",
    "# Total masses\n",
    "masses = np.genfromtxt(\"../resources/csv/out/uf_mass.csv\", delimiter='\\n')\n",
    "ax2 = fig.add_subplot(132)\n",
    "ax2.plot(masses)\n",
    "ax2.set_title(\"Total masses over iterations\")\n",
    "\n",
    "# Number of clusters\n",
    "num_clust = np.genfromtxt(\"../resources/csv/out/uf_nclu.csv\", delimiter='\\n')\n",
    "ax3 = fig.add_subplot(133)\n",
    "ax3.vlines(np.arange(len(num_clust)), num_clust - 0.3, num_clust + 0.3)\n",
    "ax3.set_title(\"Number of clusters over iterations\")\n",
    "\n",
    "fig.show()"
   ]
  },
  {
   "cell_type": "markdown",
   "metadata": {},
   "source": [
    "## NGG hyperprior"
   ]
  },
  {
   "cell_type": "code",
   "execution_count": null,
   "metadata": {},
   "outputs": [],
   "source": [
    "# Run the executable\n",
    "cmd = [\"../build/run\",\n",
    "    \"Neal2\", str(rng), \"0\", \"7000\", \"5000\",\n",
    "    \"NNIG\", \"../resources/asciipb/nnig_ngg_prior.asciipb\",\n",
    "    \"DP\", \"../resources/asciipb/dp_gamma_prior.asciipb\",\n",
    "    \"\",\n",
    "    \"../resources/csv/in/data_uni.csv\", \"../resources/csv/in/grid_uni.csv\",\n",
    "    \"../resources/csv/out/un_dens.csv\", \"../resources/csv/out/un_mass.csv\",\n",
    "    \"../resources/csv/out/un_nclu.csv\", \"../resources/csv/out/un_clus.csv\"\n",
    "]\n",
    "subprocess.run(cmd, capture_output=True)"
   ]
  },
  {
   "cell_type": "code",
   "execution_count": null,
   "metadata": {},
   "outputs": [],
   "source": [
    "matr.shape"
   ]
  },
  {
   "cell_type": "code",
   "execution_count": null,
   "metadata": {},
   "outputs": [],
   "source": [
    "fig = plt.figure(figsize=(21,7))\n",
    "\n",
    "# Densities\n",
    "matr = np.genfromtxt(\"../resources/csv/out/un_dens.csv\", delimiter=',')\n",
    "ax1 = fig.add_subplot(131)\n",
    "for it in iters:\n",
    "    ax1.plot(grid_uni, np.exp(matr[it, :]), linewidth=0.5)\n",
    "ax1.plot(grid_uni, np.exp(np.mean(matr, axis=0)), linewidth=1.0,\n",
    "         linestyle='--', color=\"black\")\n",
    "\n",
    "ax1.plot(grid_uni, true_pdf, linewidth=1.0, color=\"red\")\n",
    "ax1.legend(iters + [\"mean\", \"true\"])\n",
    "ax1.set_title(\"Univariate densities\")\n",
    "\n",
    "# Total masses\n",
    "masses = np.genfromtxt(\"../resources/csv/out/un_mass.csv\", delimiter='\\n')\n",
    "ax2 = fig.add_subplot(132)\n",
    "ax2.plot(masses)\n",
    "ax2.set_title(\"Total masses over iterations\")\n",
    "\n",
    "# Number of clusters\n",
    "num_clust = np.genfromtxt(\"../resources/csv/out/un_nclu.csv\", delimiter='\\n')\n",
    "ax3 = fig.add_subplot(133)\n",
    "ax3.plot(num_clust)\n",
    "ax3.set_title(\"Number of clusters over iterations\")\n",
    "\n",
    "fig.show()"
   ]
  },
  {
   "cell_type": "markdown",
   "metadata": {},
   "source": [
    "# Multivariate tests"
   ]
  },
  {
   "cell_type": "code",
   "execution_count": null,
   "metadata": {},
   "outputs": [],
   "source": [
    "# Generate data\n",
    "rng = 20201124\n",
    "np.random.seed(rng)\n",
    "n = 60\n",
    "data_multi = np.zeros((n,2))\n",
    "n2 = size=int(n/2)\n",
    "data_multi[0:n2,0] = np.random.normal(loc=-3.0, scale=1.0, size=n2)\n",
    "data_multi[0:n2,1] = np.random.normal(loc=-2.0, scale=1.0, size=n2)\n",
    "data_multi[n2:n,0] = np.random.normal(loc=+3.0, scale=1.0, size=n2)\n",
    "data_multi[n2:n,1] = np.random.normal(loc=+2.0, scale=1.0, size=n2)\n",
    "np.savetxt(\"../resources/csv/in/data_multi.csv\", data_multi, fmt='%1.5f')"
   ]
  },
  {
   "cell_type": "code",
   "execution_count": null,
   "metadata": {},
   "outputs": [],
   "source": [
    "# Generate grid\n",
    "xx = np.arange(-7.0, +7.1, 0.5)\n",
    "yy = np.arange(-6.0, +5.1, 0.5)\n",
    "grid_multi = np.array(np.meshgrid(xx, yy)).T.reshape(-1, 2)\n",
    "np.savetxt(\"../resources/csv/in/grid_multi.csv\", grid_multi, fmt='%1.5f')"
   ]
  },
  {
   "cell_type": "markdown",
   "metadata": {},
   "source": [
    "## Fixed values hyperprior"
   ]
  },
  {
   "cell_type": "code",
   "execution_count": null,
   "metadata": {},
   "outputs": [],
   "source": [
    "# Run the executable\n",
    "cmd = [\"../build/run\",\n",
    "    \"N8\", str(rng), \"0\", \"1000\", \"100\",\n",
    "    \"NNW\", \"../resources/asciipb/nnw_fixed_prior.asciipb\",\n",
    "    \"DP\", \"../resources/asciipb/dp_gamma_prior.asciipb\",\n",
    "    \"\",\n",
    "    \"../resources/csv/in/data_multi.csv\", \"../resources/csv/in/grid_multi.csv\",\n",
    "    \"../resources/csv/out/mf_dens.csv\", \"../resources/csv/out/mf_mass.csv\",\n",
    "    \"../resources/csv/out/mf_nclu.csv\", \"../resources/csv/out/mf_clus.csv\"\n",
    "]\n",
    "subprocess.run(cmd, capture_output=True)"
   ]
  },
  {
   "cell_type": "code",
   "execution_count": null,
   "metadata": {},
   "outputs": [],
   "source": [
    "fig = plt.figure(figsize=(21,7))\n",
    "\n",
    "# Density\n",
    "matr = np.genfromtxt(\"../resources/csv/out/mf_dens.csv\", delimiter=',')\n",
    "ax1 = fig.add_subplot(131, projection='3d')\n",
    "ax1.scatter(grid_multi[:,0], grid_multi[:,1], np.exp(np.mean(matr, axis=1)))\n",
    "ax1.set_title(\"Mean multivariate density\")\n",
    "\n",
    "# Total masses\n",
    "masses = np.genfromtxt(\"../resources/csv/out/mf_mass.csv\", delimiter='\\n')\n",
    "ax2 = fig.add_subplot(132)\n",
    "ax2.plot(masses)\n",
    "ax2.set_title(\"Total masses over iterations\")\n",
    "\n",
    "# Number of clusters\n",
    "num_clust = np.genfromtxt(\"../resources/csv/out/mf_nclu.csv\", delimiter='\\n')\n",
    "ax3 = fig.add_subplot(133)\n",
    "ax3.plot(num_clust)\n",
    "ax3.set_title(\"Number of clusters over iterations\")\n",
    "\n",
    "fig.show()"
   ]
  },
  {
   "cell_type": "markdown",
   "metadata": {},
   "source": [
    "## NGIW hyperprior"
   ]
  },
  {
   "cell_type": "code",
   "execution_count": null,
   "metadata": {},
   "outputs": [],
   "source": [
    "# Run the executable\n",
    "cmd = [\"../build/run\",\n",
    "    \"N8\", str(rng), \"0\", \"1000\", \"100\",\n",
    "    \"NNW\", \"../resources/asciipb/nnw_ngiw_prior.asciipb\",\n",
    "    \"DP\", \"../resources/asciipb/dp_gamma_prior.asciipb\",\n",
    "    \"\",\n",
    "    \"../resources/csv/in/data_multi.csv\", \"../resources/csv/in/grid_multi.csv\",\n",
    "    \"../resources/csv/out/mn_dens.csv\", \"../resources/csv/out/mn_mass.csv\",\n",
    "    \"../resources/csv/out/mn_nclu.csv\", \"../resources/csv/out/mn_clus.csv\"\n",
    "]\n",
    "subprocess.run(cmd, capture_output=True)"
   ]
  },
  {
   "cell_type": "code",
   "execution_count": null,
   "metadata": {},
   "outputs": [],
   "source": [
    "fig = plt.figure(figsize=(21,7))\n",
    "\n",
    "# Density\n",
    "matr = np.genfromtxt(\"../resources/csv/out/mn_dens.csv\", delimiter=',')\n",
    "mean_dens = np.exp(np.mean(matr, axis=1)).reshape(-1, 1)\n",
    "plot_data = pd.DataFrame(np.hstack([grid_multi, mean_dens]), \n",
    "                         columns=[\"x\", \"y\", \"z\"])\n",
    "Z = plot_data.pivot_table(index='x', columns='y', values='z').T.values\n",
    "X_unique = np.sort(plot_data.x.unique())\n",
    "Y_unique = np.sort(plot_data.y.unique())\n",
    "X, Y = np.meshgrid(X_unique, Y_unique)\n",
    "ax1 = fig.add_subplot(131) #, projection='3d')\n",
    "ax1.contour(X, Y, Z)\n",
    "ax1.set_title(\"Mean multivariate density\")\n",
    "\n",
    "# Total masses\n",
    "masses = np.genfromtxt(\"../resources/csv/out/mn_mass.csv\", delimiter='\\n')\n",
    "ax2 = fig.add_subplot(132)\n",
    "ax2.plot(masses)\n",
    "ax2.set_title(\"Total masses over iterations\")\n",
    "\n",
    "# Number of clusters\n",
    "num_clust = np.genfromtxt(\"../resources/csv/out/mn_nclu.csv\", delimiter='\\n')\n",
    "ax3 = fig.add_subplot(133)\n",
    "ax3.vlines(np.arange(len(num_clust)), num_clust - 0.3, num_clust + 0.3)\n",
    "ax3.set_title(\"Number of clusters over iterations\")\n",
    "\n",
    "fig.show()"
   ]
  },
  {
   "cell_type": "code",
   "execution_count": null,
   "metadata": {},
   "outputs": [],
   "source": []
  },
  {
   "cell_type": "code",
   "execution_count": null,
   "metadata": {},
   "outputs": [],
   "source": []
  }
 ],
 "metadata": {
  "kernelspec": {
   "display_name": "Python 3",
   "language": "python",
   "name": "python3"
  },
  "language_info": {
   "codemirror_mode": {
    "name": "ipython",
    "version": 3
   },
   "file_extension": ".py",
   "mimetype": "text/x-python",
   "name": "python",
   "nbconvert_exporter": "python",
   "pygments_lexer": "ipython3",
   "version": "3.8.0"
  }
 },
 "nbformat": 4,
 "nbformat_minor": 4
}
